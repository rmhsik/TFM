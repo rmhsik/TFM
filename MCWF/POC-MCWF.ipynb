{
 "cells": [
  {
   "cell_type": "code",
   "execution_count": 14,
   "metadata": {},
   "outputs": [],
   "source": [
    "import numpy as np\n",
    "import matplotlib.pyplot as plt\n",
    "%matplotlib widget"
   ]
  },
  {
   "cell_type": "code",
   "execution_count": 40,
   "metadata": {},
   "outputs": [],
   "source": [
    "class TwoLevel:\n",
    "    def __init__(self, config):\n",
    "        self.config = config\n",
    "        \n",
    "        self.t0 = config[\"t0\"]\n",
    "        self.tf = config[\"tf\"]\n",
    "        self.Nt = config[\"Nt\"]\n",
    "        self.t, self.dt  = np.linspace(self.t0,self.tf,self.Nt,retstep=True)\n",
    "        \n",
    "        self.Delta = config[\"Delta\"]\n",
    "        self.Omega = config[\"Omega\"]\n",
    "        self.InitState = config[\"InitState\"]\n",
    "        \n",
    "        self.GroundState = np.array([0,1])\n",
    "        self.ExcitedState = np.array([1,0])\n",
    "        \n",
    "        self.HamSetup()\n",
    "    \n",
    "    def HamSetup(self):\n",
    "        #RWA Hamiltonian in the Rotating Frame\n",
    "        proj_e = np.array([[1,0],[0,0]])\n",
    "        sigma_p = np.array([[0,1],[0,0]])\n",
    "        sigma_m = np.array([[0,0],[1,0]])\n",
    "        sigma_z = np.array([[1,0],[0,-1]])\n",
    "#         self.HRWA = -self.Delta*proj_e + self.Omega/2*(sigma_p + sigma_m)\n",
    "        self.HRWA = -self.Delta/2*sigma_z + self.Omega*(sigma_p + sigma_m)\n",
    "    \n",
    "    def Evolution(self):\n",
    "        self.WFArray = np.zeros((self.Nt,2),dtype='complex64')\n",
    "        Psi = self.InitState\n",
    "        self.WFArray[0] = Psi\n",
    "        for i in range(1,self.Nt):\n",
    "            PsiN = self.Step(Psi)\n",
    "            Psi = PsiN\n",
    "            self.WFArray[i] = Psi\n",
    "    \n",
    "    def Step(self,Psi):\n",
    "        M = np.identity(2)-0.5*1j*self.HRWA*self.dt\n",
    "        Mp = np.identity(2)+0.5*1j*self.HRWA*self.dt\n",
    "        self.U = np.linalg.inv(Mp).dot(M)\n",
    "        return self.U.dot(Psi)\n",
    "    \n",
    "\n",
    "class MCWF:\n",
    "    def __init__(self, config):\n",
    "        self.config = config\n",
    "        \n",
    "        self.t0 = config[\"t0\"]\n",
    "        self.tf = config[\"tf\"]\n",
    "        self.Nt = config[\"Nt\"]\n",
    "        self.t, self.dt  = np.linspace(self.t0,self.tf,self.Nt,retstep=True)\n",
    "        \n",
    "        self.Delta = config[\"Delta\"]\n",
    "        self.Omega = config[\"Omega\"]\n",
    "        self.Gamma = config[\"Gamma\"]\n",
    "        self.InitState = config[\"InitState\"]\n",
    "        \n",
    "        self.GroundState = np.array([0,1])\n",
    "        self.ExcitedState = np.array([1,0])\n",
    "        \n",
    "        self.NPaths = config[\"NPaths\"]\n",
    "        \n",
    "        self.HamSetup()\n",
    "    \n",
    "    def HamSetup(self):\n",
    "        #RWA Hamiltonian in the Rotating Frame\n",
    "        proj_e = np.array([[1,0],[0,0]])\n",
    "        sigma_p = np.array([[0,1],[0,0]])\n",
    "        sigma_m = np.array([[0,0],[1,0]])\n",
    "        sigma_z = np.array([[1,0],[0,-1]])\n",
    "        self.HRWA = -self.Delta/2*sigma_z + self.Omega*(sigma_p + sigma_m)\n",
    "    \n",
    "    def Evolution(self):\n",
    "        p_ground = np.zeros((self.NPaths, self.Nt))\n",
    "        p_excited = np.zeros((self.NPaths, self.Nt))\n",
    "        \n",
    "        for j in range(self.NPaths):\n",
    "            self.WFArray = np.zeros((self.Nt,2),dtype='complex64')\n",
    "            Psi = self.InitState\n",
    "            self.WFArray[0] = Psi\n",
    "            for i in range(1,self.Nt):\n",
    "                dp = self.Gamma*np.abs(Psi[0])**2*self.dt\n",
    "                rand = np.random.rand()\n",
    "                if rand < dp:\n",
    "                    Psi = self.GroundState\n",
    "                else:\n",
    "                    mu = (1-dp)**(-1/2)\n",
    "                    PsiN = self.Step(Psi, mu)\n",
    "                    PsiN = PsiN/(np.sqrt(PsiN.dot(np.conj(PsiN))))\n",
    "                    Psi = PsiN\n",
    "                self.WFArray[i] = Psi\n",
    "            prob = np.abs(self.WFArray)**2\n",
    "            \n",
    "            p_ground[j] = prob[:,1]\n",
    "            p_excited[j] = prob[:,0]\n",
    "        \n",
    "        self.ProbGround = np.mean(p_ground, 0)\n",
    "        self.ErrorGround = np.std(p_ground, 0)/np.sqrt(self.NPaths)\n",
    "        self.ProbExcited = np.mean(p_excited, 0)\n",
    "        self.ErrorExcited = np.std(p_excited, 0)/np.sqrt(self.NPaths)\n",
    "        \n",
    "    def Step(self,Psi,mu=1.0):\n",
    "        M = np.identity(2)-0.5*1j*self.HRWA*self.dt\n",
    "        Mp = np.identity(2)+0.5*1j*self.HRWA*self.dt\n",
    "        self.U = np.linalg.inv(Mp).dot(M)\n",
    "        return mu*self.U.dot(Psi)\n"
   ]
  },
  {
   "cell_type": "code",
   "execution_count": 51,
   "metadata": {},
   "outputs": [],
   "source": [
    "config1 = {\n",
    "         \"t0\": 0.0,\n",
    "         \"tf\": 4.0,\n",
    "         \"Nt\": 1000,\n",
    "         \"Delta\": 0,\n",
    "         \"Omega\": 3.0,\n",
    "         \"InitState\": np.array([0,1])\n",
    "        }\n",
    "config2 = {\n",
    "         \"t0\": 0.0,\n",
    "         \"tf\": 4.0,\n",
    "         \"Nt\": 1000,\n",
    "         \"Delta\": 5,\n",
    "         \"Omega\": 3.0,\n",
    "         \"InitState\": np.array([0,1])\n",
    "        }\n",
    "config3 = {\n",
    "         \"t0\": 0.0,\n",
    "         \"tf\": 4.0,\n",
    "         \"Nt\": 1000,\n",
    "         \"Delta\": 10,\n",
    "         \"Omega\": 3.0,\n",
    "         \"InitState\": np.array([0,1])\n",
    "        }\n",
    "\n",
    "configMCWF = {\n",
    "         \"t0\": 0.0,\n",
    "         \"tf\": 4.0,\n",
    "         \"Nt\": 1000,\n",
    "         \"Delta\": 0,\n",
    "         \"Omega\": 3.0,\n",
    "         \"Gamma\": 1.0,\n",
    "         \"InitState\": np.array([0,1]),\n",
    "         \"NPaths\": 500\n",
    "        }"
   ]
  },
  {
   "cell_type": "code",
   "execution_count": 56,
   "metadata": {},
   "outputs": [],
   "source": [
    "TL1 = TwoLevel(config1)\n",
    "TL1.Evolution()\n",
    "\n",
    "TL2 = TwoLevel(config2)\n",
    "TL2.Evolution()\n",
    "\n",
    "TL3 = TwoLevel(config3)\n",
    "TL3.Evolution()\n",
    "\n",
    "MC = MCWF(configMCWF)\n",
    "MC.Evolution()"
   ]
  },
  {
   "cell_type": "code",
   "execution_count": 57,
   "metadata": {},
   "outputs": [],
   "source": [
    "WF1 = np.abs(TL1.WFArray)**2\n",
    "excited1 = WF1[:,0]\n",
    "ground1 = WF1[:,1]\n",
    "\n",
    "WF2 = np.abs(TL2.WFArray)**2\n",
    "excited2 = WF2[:,0]\n",
    "ground2 = WF2[:,1]\n",
    "\n",
    "WF3 = np.abs(TL3.WFArray)**2\n",
    "excited3 = WF3[:,0]\n",
    "ground3 = WF3[:,1]\n",
    "\n",
    "WFMc = [MC.ProbExcited,MC.ProbGround]\n",
    "ErrorMc = [MC.ErrorExcited,MC.ErrorGround]\n",
    "excitedMc = WFMc[0]\n",
    "error_excitedMc = ErrorMc[0]\n",
    "groundMc = WFMc[1]\n",
    "error_groundMc = ErrorMc[1]\n"
   ]
  },
  {
   "cell_type": "code",
   "execution_count": 54,
   "metadata": {},
   "outputs": [
    {
     "data": {
      "application/vnd.jupyter.widget-view+json": {
       "model_id": "d3c95844eab1432eadc60007ff96175f",
       "version_major": 2,
       "version_minor": 0
      },
      "text/plain": [
       "Canvas(toolbar=Toolbar(toolitems=[('Home', 'Reset original view', 'home', 'home'), ('Back', 'Back to previous …"
      ]
     },
     "metadata": {},
     "output_type": "display_data"
    },
    {
     "data": {
      "text/plain": [
       "<matplotlib.legend.Legend at 0x7fa585fbbf70>"
      ]
     },
     "execution_count": 54,
     "metadata": {},
     "output_type": "execute_result"
    }
   ],
   "source": [
    "fig = plt.figure()\n",
    "ax = fig.add_subplot(111)\n",
    "\n",
    "ax.plot(TL1.t,excited1,label = \"Delta = 0\")\n",
    "ax.plot(TL2.t,excited2,label = \"Delta = 5\")\n",
    "ax.plot(TL3.t,excited3,label = \"Delta = 10\")\n",
    "ax.set_ylabel(\"Population excited state\")\n",
    "ax.set_xlabel(\"Time (1/Gamma)\")\n",
    "\n",
    "# ax.set_ylim(0,1.0)\n",
    "plt.legend(loc=\"upper left\")\n",
    "\n",
    "# plt.savefig(\"fig/TwoLevel_vs_MCWF.pdf\",bbox_inches='tight')"
   ]
  },
  {
   "cell_type": "code",
   "execution_count": 58,
   "metadata": {},
   "outputs": [
    {
     "data": {
      "application/vnd.jupyter.widget-view+json": {
       "model_id": "e7a18f6c56b948a88e2677976f96c4e7",
       "version_major": 2,
       "version_minor": 0
      },
      "text/plain": [
       "Canvas(toolbar=Toolbar(toolitems=[('Home', 'Reset original view', 'home', 'home'), ('Back', 'Back to previous …"
      ]
     },
     "metadata": {},
     "output_type": "display_data"
    },
    {
     "data": {
      "text/plain": [
       "<matplotlib.legend.Legend at 0x7fa585d67af0>"
      ]
     },
     "execution_count": 58,
     "metadata": {},
     "output_type": "execute_result"
    }
   ],
   "source": [
    "fig = plt.figure()\n",
    "ax = fig.add_subplot(111)\n",
    "\n",
    "ax.plot(TL1.t,excited1,label = \"Two Level\")\n",
    "ax.errorbar(MC.t,excitedMc,yerr=error_excitedMc,capsize=0.5,elinewidth=0.5,markeredgewidth=0.5,linestyle='None')\n",
    "ax.plot(MC.t,excitedMc,'g',label = \"MCWF\")\n",
    "ax.set_ylabel(\"Population excited state\")\n",
    "ax.set_xlabel(\"Time (1/Gamma)\")\n",
    "\n",
    "# ax.set_ylim(0,1.0)\n",
    "plt.legend(loc=\"upper left\")\n",
    "\n",
    "# plt.savefig(\"fig/TwoLevel_vs_MCWF.pdf\",bbox_inches='tight')"
   ]
  },
  {
   "cell_type": "code",
   "execution_count": null,
   "metadata": {},
   "outputs": [],
   "source": []
  }
 ],
 "metadata": {
  "kernelspec": {
   "display_name": "Python 3",
   "language": "python",
   "name": "python3"
  },
  "language_info": {
   "codemirror_mode": {
    "name": "ipython",
    "version": 3
   },
   "file_extension": ".py",
   "mimetype": "text/x-python",
   "name": "python",
   "nbconvert_exporter": "python",
   "pygments_lexer": "ipython3",
   "version": "3.8.2"
  }
 },
 "nbformat": 4,
 "nbformat_minor": 4
}
